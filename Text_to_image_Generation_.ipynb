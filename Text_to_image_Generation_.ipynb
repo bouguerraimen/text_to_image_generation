{
  "nbformat": 4,
  "nbformat_minor": 0,
  "metadata": {
    "colab": {
      "provenance": [],
      "gpuType": "T4",
      "authorship_tag": "ABX9TyNHFAsYrGm4s+GrzllYxB0A",
      "include_colab_link": true
    },
    "kernelspec": {
      "name": "python3",
      "display_name": "Python 3"
    },
    "language_info": {
      "name": "python"
    },
    "accelerator": "GPU"
  },
  "cells": [
    {
      "cell_type": "markdown",
      "metadata": {
        "id": "view-in-github",
        "colab_type": "text"
      },
      "source": [
        "<a href=\"https://colab.research.google.com/github/bouguerraimen/text_to_image_generation/blob/main/Text_to_image_Generation_.ipynb\" target=\"_parent\"><img src=\"https://colab.research.google.com/assets/colab-badge.svg\" alt=\"Open In Colab\"/></a>"
      ]
    },
    {
      "cell_type": "code",
      "execution_count": null,
      "metadata": {
        "id": "saljPqAjunAh"
      },
      "outputs": [],
      "source": [
        "!pip install -U diffusers transformers accelerate safetensors\n"
      ]
    },
    {
      "cell_type": "code",
      "source": [
        "from diffusers import StableDiffusionPipeline\n",
        "import matplotlib.pyplot as plt\n",
        "import torch"
      ],
      "metadata": {
        "id": "g7-Xk89Nvsqk"
      },
      "execution_count": null,
      "outputs": []
    },
    {
      "cell_type": "code",
      "source": [
        "! pip show torch"
      ],
      "metadata": {
        "id": "4XURgSxEwA0U"
      },
      "execution_count": null,
      "outputs": []
    },
    {
      "cell_type": "code",
      "source": [
        "model_id1 = \"dreamlike-art/dreamlike-diffusion-1.0\"\n",
        "model_id2 = \"stabilityai/stable-diffusion-xl-base-1.0\"\n",
        "\n",
        "pipe = StableDiffusionPipeline.from_pretrained(\n",
        "    model_id1,\n",
        "    torch_dtype=torch.float32,\n",
        "    use_safetensors=True\n",
        ")\n",
        "pipe = pipe.to(\"cuda\")\n"
      ],
      "metadata": {
        "id": "Ayp9QU1oz2YU"
      },
      "execution_count": null,
      "outputs": []
    },
    {
      "cell_type": "code",
      "source": [
        "prompt=\"\"\"Realistic medical illustration of a doctor examining a patient, focused on stethoscope usage, clinical setting, bright and clear lighting, professional attire, anatomical accuracy, high detail, educational style.\n",
        "\"\"\""
      ],
      "metadata": {
        "id": "b0HXBNIj0Mrk"
      },
      "execution_count": null,
      "outputs": []
    },
    {
      "cell_type": "code",
      "source": [
        "image=pipe(prompt).images[0]"
      ],
      "metadata": {
        "id": "n0-gpyBO2MIe"
      },
      "execution_count": null,
      "outputs": []
    },
    {
      "cell_type": "code",
      "source": [
        "print(\"[prompt]\",prompt)\n",
        "plt.imshow(image)\n",
        "plt.axis(\"off\")"
      ],
      "metadata": {
        "id": "axOLmyRGA7eV"
      },
      "execution_count": null,
      "outputs": []
    },
    {
      "cell_type": "code",
      "source": [
        "import matplotlib.pyplot as plt\n",
        "\n",
        "def generate_image(pipe, prompt, params):\n",
        "    img = pipe(prompt, **params).images\n",
        "\n",
        "    num_images = len(img)\n",
        "    if num_images > 1:\n",
        "        fig, ax = plt.subplots(nrows=1, ncols=num_images, figsize=(5*num_images, 5))\n",
        "        for i in range(num_images):\n",
        "            ax[i].imshow(img[i])\n",
        "            ax[i].axis('off')\n",
        "        plt.tight_layout()\n",
        "    else:\n",
        "        plt.imshow(img[0])\n",
        "        plt.axis('off')\n",
        "\n",
        "    plt.show()\n"
      ],
      "metadata": {
        "id": "h57r4CpJCl43"
      },
      "execution_count": null,
      "outputs": []
    },
    {
      "cell_type": "code",
      "source": [
        "prompt=\"\"\"Realistic medical illustration of a doctor examining a patient, focused on stethoscope usage, clinical setting, bright and clear lighting, professional attire, anatomical accuracy, high detail, educational style.\n",
        "\"\"\"\n",
        "params={}"
      ],
      "metadata": {
        "id": "qEmzgcVXC3AQ"
      },
      "execution_count": null,
      "outputs": []
    },
    {
      "cell_type": "code",
      "source": [
        "generate_image(pipe, prompt, params)"
      ],
      "metadata": {
        "id": "MSHr5c5zDDBI"
      },
      "execution_count": null,
      "outputs": []
    },
    {
      "cell_type": "code",
      "source": [
        "\n",
        "params = {'num_inference_steps': 100}\n",
        "\n",
        "generate_image(pipe, prompt, params)\n"
      ],
      "metadata": {
        "id": "tbfCWJnpDSDn"
      },
      "execution_count": null,
      "outputs": []
    },
    {
      "cell_type": "code",
      "source": [
        "params = {'num_inference_steps': 100, 'width': 512, 'height': int(1.5*640)}\n",
        "\n",
        "generate_image(pipe, prompt, params)\n"
      ],
      "metadata": {
        "id": "ctqROxNGDhTW"
      },
      "execution_count": null,
      "outputs": []
    },
    {
      "cell_type": "code",
      "source": [
        "params = {'num_inference_steps': 100, 'num_images_per_prompt': 2}\n",
        "\n",
        "generate_image(pipe, prompt, params)"
      ],
      "metadata": {
        "id": "7xOfJIFODjyW"
      },
      "execution_count": null,
      "outputs": []
    },
    {
      "cell_type": "code",
      "source": [
        "\n",
        "\n",
        "\n",
        "params = {'num_inference_steps': 100, 'num_images_per_prompt': 2, 'negative_prompt': 'ugly, distorted, low quality'}\n",
        "\n",
        "generate_image(pipe, prompt, params)"
      ],
      "metadata": {
        "id": "jYp9c0QIEEd-"
      },
      "execution_count": null,
      "outputs": []
    }
  ]
}